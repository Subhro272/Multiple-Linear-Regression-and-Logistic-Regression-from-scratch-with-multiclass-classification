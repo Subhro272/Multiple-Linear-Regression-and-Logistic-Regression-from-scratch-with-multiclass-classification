{
  "nbformat": 4,
  "nbformat_minor": 0,
  "metadata": {
    "colab": {
      "name": "MLR and Log reg from scratch.ipynb",
      "provenance": []
    },
    "kernelspec": {
      "name": "python3",
      "display_name": "Python 3"
    },
    "language_info": {
      "name": "python"
    }
  },
  "cells": [
    {
      "cell_type": "markdown",
      "source": [
        "# Linear Regression"
      ],
      "metadata": {
        "id": "dw6LkUJw-Y1p"
      }
    },
    {
      "cell_type": "code",
      "source": [
        "import numpy as np\n",
        "import matplotlib.pyplot as plt\n",
        "from sklearn.datasets import make_regression\n",
        "import pandas as pd\n",
        "import seaborn as sns\n",
        "import math\n",
        "import os\n",
        "import operator\n",
        "import torch"
      ],
      "metadata": {
        "id": "1s7eY1uBMvkZ"
      },
      "execution_count": null,
      "outputs": []
    },
    {
      "cell_type": "code",
      "source": [
        "df = pd.read_csv('car_data.csv')\n",
        "df.head()"
      ],
      "metadata": {
        "colab": {
          "base_uri": "https://localhost:8080/",
          "height": 206
        },
        "id": "aYi4016RMwK_",
        "outputId": "831ec64d-3306-4fb7-fd0b-ad48677bb0f3"
      },
      "execution_count": null,
      "outputs": [
        {
          "output_type": "execute_result",
          "data": {
            "text/plain": [
              "  Car_Name  Year  Selling_Price  Present_Price  Kms_Driven Fuel_Type  \\\n",
              "0     ritz  2014           3.35           5.59       27000    Petrol   \n",
              "1      sx4  2013           4.75           9.54       43000    Diesel   \n",
              "2     ciaz  2017           7.25           9.85        6900    Petrol   \n",
              "3  wagon r  2011           2.85           4.15        5200    Petrol   \n",
              "4    swift  2014           4.60           6.87       42450    Diesel   \n",
              "\n",
              "  Seller_Type Transmission  Owner  \n",
              "0      Dealer       Manual      0  \n",
              "1      Dealer       Manual      0  \n",
              "2      Dealer       Manual      0  \n",
              "3      Dealer       Manual      0  \n",
              "4      Dealer       Manual      0  "
            ],
            "text/html": [
              "\n",
              "  <div id=\"df-b49c95e8-f676-4a53-b37c-ce0b9792fce5\">\n",
              "    <div class=\"colab-df-container\">\n",
              "      <div>\n",
              "<style scoped>\n",
              "    .dataframe tbody tr th:only-of-type {\n",
              "        vertical-align: middle;\n",
              "    }\n",
              "\n",
              "    .dataframe tbody tr th {\n",
              "        vertical-align: top;\n",
              "    }\n",
              "\n",
              "    .dataframe thead th {\n",
              "        text-align: right;\n",
              "    }\n",
              "</style>\n",
              "<table border=\"1\" class=\"dataframe\">\n",
              "  <thead>\n",
              "    <tr style=\"text-align: right;\">\n",
              "      <th></th>\n",
              "      <th>Car_Name</th>\n",
              "      <th>Year</th>\n",
              "      <th>Selling_Price</th>\n",
              "      <th>Present_Price</th>\n",
              "      <th>Kms_Driven</th>\n",
              "      <th>Fuel_Type</th>\n",
              "      <th>Seller_Type</th>\n",
              "      <th>Transmission</th>\n",
              "      <th>Owner</th>\n",
              "    </tr>\n",
              "  </thead>\n",
              "  <tbody>\n",
              "    <tr>\n",
              "      <th>0</th>\n",
              "      <td>ritz</td>\n",
              "      <td>2014</td>\n",
              "      <td>3.35</td>\n",
              "      <td>5.59</td>\n",
              "      <td>27000</td>\n",
              "      <td>Petrol</td>\n",
              "      <td>Dealer</td>\n",
              "      <td>Manual</td>\n",
              "      <td>0</td>\n",
              "    </tr>\n",
              "    <tr>\n",
              "      <th>1</th>\n",
              "      <td>sx4</td>\n",
              "      <td>2013</td>\n",
              "      <td>4.75</td>\n",
              "      <td>9.54</td>\n",
              "      <td>43000</td>\n",
              "      <td>Diesel</td>\n",
              "      <td>Dealer</td>\n",
              "      <td>Manual</td>\n",
              "      <td>0</td>\n",
              "    </tr>\n",
              "    <tr>\n",
              "      <th>2</th>\n",
              "      <td>ciaz</td>\n",
              "      <td>2017</td>\n",
              "      <td>7.25</td>\n",
              "      <td>9.85</td>\n",
              "      <td>6900</td>\n",
              "      <td>Petrol</td>\n",
              "      <td>Dealer</td>\n",
              "      <td>Manual</td>\n",
              "      <td>0</td>\n",
              "    </tr>\n",
              "    <tr>\n",
              "      <th>3</th>\n",
              "      <td>wagon r</td>\n",
              "      <td>2011</td>\n",
              "      <td>2.85</td>\n",
              "      <td>4.15</td>\n",
              "      <td>5200</td>\n",
              "      <td>Petrol</td>\n",
              "      <td>Dealer</td>\n",
              "      <td>Manual</td>\n",
              "      <td>0</td>\n",
              "    </tr>\n",
              "    <tr>\n",
              "      <th>4</th>\n",
              "      <td>swift</td>\n",
              "      <td>2014</td>\n",
              "      <td>4.60</td>\n",
              "      <td>6.87</td>\n",
              "      <td>42450</td>\n",
              "      <td>Diesel</td>\n",
              "      <td>Dealer</td>\n",
              "      <td>Manual</td>\n",
              "      <td>0</td>\n",
              "    </tr>\n",
              "  </tbody>\n",
              "</table>\n",
              "</div>\n",
              "      <button class=\"colab-df-convert\" onclick=\"convertToInteractive('df-b49c95e8-f676-4a53-b37c-ce0b9792fce5')\"\n",
              "              title=\"Convert this dataframe to an interactive table.\"\n",
              "              style=\"display:none;\">\n",
              "        \n",
              "  <svg xmlns=\"http://www.w3.org/2000/svg\" height=\"24px\"viewBox=\"0 0 24 24\"\n",
              "       width=\"24px\">\n",
              "    <path d=\"M0 0h24v24H0V0z\" fill=\"none\"/>\n",
              "    <path d=\"M18.56 5.44l.94 2.06.94-2.06 2.06-.94-2.06-.94-.94-2.06-.94 2.06-2.06.94zm-11 1L8.5 8.5l.94-2.06 2.06-.94-2.06-.94L8.5 2.5l-.94 2.06-2.06.94zm10 10l.94 2.06.94-2.06 2.06-.94-2.06-.94-.94-2.06-.94 2.06-2.06.94z\"/><path d=\"M17.41 7.96l-1.37-1.37c-.4-.4-.92-.59-1.43-.59-.52 0-1.04.2-1.43.59L10.3 9.45l-7.72 7.72c-.78.78-.78 2.05 0 2.83L4 21.41c.39.39.9.59 1.41.59.51 0 1.02-.2 1.41-.59l7.78-7.78 2.81-2.81c.8-.78.8-2.07 0-2.86zM5.41 20L4 18.59l7.72-7.72 1.47 1.35L5.41 20z\"/>\n",
              "  </svg>\n",
              "      </button>\n",
              "      \n",
              "  <style>\n",
              "    .colab-df-container {\n",
              "      display:flex;\n",
              "      flex-wrap:wrap;\n",
              "      gap: 12px;\n",
              "    }\n",
              "\n",
              "    .colab-df-convert {\n",
              "      background-color: #E8F0FE;\n",
              "      border: none;\n",
              "      border-radius: 50%;\n",
              "      cursor: pointer;\n",
              "      display: none;\n",
              "      fill: #1967D2;\n",
              "      height: 32px;\n",
              "      padding: 0 0 0 0;\n",
              "      width: 32px;\n",
              "    }\n",
              "\n",
              "    .colab-df-convert:hover {\n",
              "      background-color: #E2EBFA;\n",
              "      box-shadow: 0px 1px 2px rgba(60, 64, 67, 0.3), 0px 1px 3px 1px rgba(60, 64, 67, 0.15);\n",
              "      fill: #174EA6;\n",
              "    }\n",
              "\n",
              "    [theme=dark] .colab-df-convert {\n",
              "      background-color: #3B4455;\n",
              "      fill: #D2E3FC;\n",
              "    }\n",
              "\n",
              "    [theme=dark] .colab-df-convert:hover {\n",
              "      background-color: #434B5C;\n",
              "      box-shadow: 0px 1px 3px 1px rgba(0, 0, 0, 0.15);\n",
              "      filter: drop-shadow(0px 1px 2px rgba(0, 0, 0, 0.3));\n",
              "      fill: #FFFFFF;\n",
              "    }\n",
              "  </style>\n",
              "\n",
              "      <script>\n",
              "        const buttonEl =\n",
              "          document.querySelector('#df-b49c95e8-f676-4a53-b37c-ce0b9792fce5 button.colab-df-convert');\n",
              "        buttonEl.style.display =\n",
              "          google.colab.kernel.accessAllowed ? 'block' : 'none';\n",
              "\n",
              "        async function convertToInteractive(key) {\n",
              "          const element = document.querySelector('#df-b49c95e8-f676-4a53-b37c-ce0b9792fce5');\n",
              "          const dataTable =\n",
              "            await google.colab.kernel.invokeFunction('convertToInteractive',\n",
              "                                                     [key], {});\n",
              "          if (!dataTable) return;\n",
              "\n",
              "          const docLinkHtml = 'Like what you see? Visit the ' +\n",
              "            '<a target=\"_blank\" href=https://colab.research.google.com/notebooks/data_table.ipynb>data table notebook</a>'\n",
              "            + ' to learn more about interactive tables.';\n",
              "          element.innerHTML = '';\n",
              "          dataTable['output_type'] = 'display_data';\n",
              "          await google.colab.output.renderOutput(dataTable, element);\n",
              "          const docLink = document.createElement('div');\n",
              "          docLink.innerHTML = docLinkHtml;\n",
              "          element.appendChild(docLink);\n",
              "        }\n",
              "      </script>\n",
              "    </div>\n",
              "  </div>\n",
              "  "
            ]
          },
          "metadata": {},
          "execution_count": 44
        }
      ]
    },
    {
      "cell_type": "code",
      "source": [
        "f_continuous = df[['Year', 'Selling_Price', 'Present_Price', 'Kms_Driven', 'Owner']]\n",
        "f_categorical = pd.get_dummies(df[['Fuel_Type', 'Seller_Type', 'Transmission']])\n",
        "df = pd.concat([f_continuous, f_categorical], axis=1)\n",
        "\n",
        "# Drop refundant features\n",
        "df.drop(['Transmission_Automatic', 'Seller_Type_Dealer', 'Fuel_Type_CNG'], axis=1, inplace=True)\n",
        "df.head()"
      ],
      "metadata": {
        "colab": {
          "base_uri": "https://localhost:8080/",
          "height": 206
        },
        "id": "Yu-_dsC1aZDO",
        "outputId": "215160b2-6da3-4d80-80d7-a21fed28ad7e"
      },
      "execution_count": null,
      "outputs": [
        {
          "output_type": "execute_result",
          "data": {
            "text/plain": [
              "   Year  Selling_Price  Present_Price  Kms_Driven  Owner  Fuel_Type_Diesel  \\\n",
              "0  2014           3.35           5.59       27000      0                 0   \n",
              "1  2013           4.75           9.54       43000      0                 1   \n",
              "2  2017           7.25           9.85        6900      0                 0   \n",
              "3  2011           2.85           4.15        5200      0                 0   \n",
              "4  2014           4.60           6.87       42450      0                 1   \n",
              "\n",
              "   Fuel_Type_Petrol  Seller_Type_Individual  Transmission_Manual  \n",
              "0                 1                       0                    1  \n",
              "1                 0                       0                    1  \n",
              "2                 1                       0                    1  \n",
              "3                 1                       0                    1  \n",
              "4                 0                       0                    1  "
            ],
            "text/html": [
              "\n",
              "  <div id=\"df-0633ebdb-b1ca-4c63-8b68-36d4dee6c028\">\n",
              "    <div class=\"colab-df-container\">\n",
              "      <div>\n",
              "<style scoped>\n",
              "    .dataframe tbody tr th:only-of-type {\n",
              "        vertical-align: middle;\n",
              "    }\n",
              "\n",
              "    .dataframe tbody tr th {\n",
              "        vertical-align: top;\n",
              "    }\n",
              "\n",
              "    .dataframe thead th {\n",
              "        text-align: right;\n",
              "    }\n",
              "</style>\n",
              "<table border=\"1\" class=\"dataframe\">\n",
              "  <thead>\n",
              "    <tr style=\"text-align: right;\">\n",
              "      <th></th>\n",
              "      <th>Year</th>\n",
              "      <th>Selling_Price</th>\n",
              "      <th>Present_Price</th>\n",
              "      <th>Kms_Driven</th>\n",
              "      <th>Owner</th>\n",
              "      <th>Fuel_Type_Diesel</th>\n",
              "      <th>Fuel_Type_Petrol</th>\n",
              "      <th>Seller_Type_Individual</th>\n",
              "      <th>Transmission_Manual</th>\n",
              "    </tr>\n",
              "  </thead>\n",
              "  <tbody>\n",
              "    <tr>\n",
              "      <th>0</th>\n",
              "      <td>2014</td>\n",
              "      <td>3.35</td>\n",
              "      <td>5.59</td>\n",
              "      <td>27000</td>\n",
              "      <td>0</td>\n",
              "      <td>0</td>\n",
              "      <td>1</td>\n",
              "      <td>0</td>\n",
              "      <td>1</td>\n",
              "    </tr>\n",
              "    <tr>\n",
              "      <th>1</th>\n",
              "      <td>2013</td>\n",
              "      <td>4.75</td>\n",
              "      <td>9.54</td>\n",
              "      <td>43000</td>\n",
              "      <td>0</td>\n",
              "      <td>1</td>\n",
              "      <td>0</td>\n",
              "      <td>0</td>\n",
              "      <td>1</td>\n",
              "    </tr>\n",
              "    <tr>\n",
              "      <th>2</th>\n",
              "      <td>2017</td>\n",
              "      <td>7.25</td>\n",
              "      <td>9.85</td>\n",
              "      <td>6900</td>\n",
              "      <td>0</td>\n",
              "      <td>0</td>\n",
              "      <td>1</td>\n",
              "      <td>0</td>\n",
              "      <td>1</td>\n",
              "    </tr>\n",
              "    <tr>\n",
              "      <th>3</th>\n",
              "      <td>2011</td>\n",
              "      <td>2.85</td>\n",
              "      <td>4.15</td>\n",
              "      <td>5200</td>\n",
              "      <td>0</td>\n",
              "      <td>0</td>\n",
              "      <td>1</td>\n",
              "      <td>0</td>\n",
              "      <td>1</td>\n",
              "    </tr>\n",
              "    <tr>\n",
              "      <th>4</th>\n",
              "      <td>2014</td>\n",
              "      <td>4.60</td>\n",
              "      <td>6.87</td>\n",
              "      <td>42450</td>\n",
              "      <td>0</td>\n",
              "      <td>1</td>\n",
              "      <td>0</td>\n",
              "      <td>0</td>\n",
              "      <td>1</td>\n",
              "    </tr>\n",
              "  </tbody>\n",
              "</table>\n",
              "</div>\n",
              "      <button class=\"colab-df-convert\" onclick=\"convertToInteractive('df-0633ebdb-b1ca-4c63-8b68-36d4dee6c028')\"\n",
              "              title=\"Convert this dataframe to an interactive table.\"\n",
              "              style=\"display:none;\">\n",
              "        \n",
              "  <svg xmlns=\"http://www.w3.org/2000/svg\" height=\"24px\"viewBox=\"0 0 24 24\"\n",
              "       width=\"24px\">\n",
              "    <path d=\"M0 0h24v24H0V0z\" fill=\"none\"/>\n",
              "    <path d=\"M18.56 5.44l.94 2.06.94-2.06 2.06-.94-2.06-.94-.94-2.06-.94 2.06-2.06.94zm-11 1L8.5 8.5l.94-2.06 2.06-.94-2.06-.94L8.5 2.5l-.94 2.06-2.06.94zm10 10l.94 2.06.94-2.06 2.06-.94-2.06-.94-.94-2.06-.94 2.06-2.06.94z\"/><path d=\"M17.41 7.96l-1.37-1.37c-.4-.4-.92-.59-1.43-.59-.52 0-1.04.2-1.43.59L10.3 9.45l-7.72 7.72c-.78.78-.78 2.05 0 2.83L4 21.41c.39.39.9.59 1.41.59.51 0 1.02-.2 1.41-.59l7.78-7.78 2.81-2.81c.8-.78.8-2.07 0-2.86zM5.41 20L4 18.59l7.72-7.72 1.47 1.35L5.41 20z\"/>\n",
              "  </svg>\n",
              "      </button>\n",
              "      \n",
              "  <style>\n",
              "    .colab-df-container {\n",
              "      display:flex;\n",
              "      flex-wrap:wrap;\n",
              "      gap: 12px;\n",
              "    }\n",
              "\n",
              "    .colab-df-convert {\n",
              "      background-color: #E8F0FE;\n",
              "      border: none;\n",
              "      border-radius: 50%;\n",
              "      cursor: pointer;\n",
              "      display: none;\n",
              "      fill: #1967D2;\n",
              "      height: 32px;\n",
              "      padding: 0 0 0 0;\n",
              "      width: 32px;\n",
              "    }\n",
              "\n",
              "    .colab-df-convert:hover {\n",
              "      background-color: #E2EBFA;\n",
              "      box-shadow: 0px 1px 2px rgba(60, 64, 67, 0.3), 0px 1px 3px 1px rgba(60, 64, 67, 0.15);\n",
              "      fill: #174EA6;\n",
              "    }\n",
              "\n",
              "    [theme=dark] .colab-df-convert {\n",
              "      background-color: #3B4455;\n",
              "      fill: #D2E3FC;\n",
              "    }\n",
              "\n",
              "    [theme=dark] .colab-df-convert:hover {\n",
              "      background-color: #434B5C;\n",
              "      box-shadow: 0px 1px 3px 1px rgba(0, 0, 0, 0.15);\n",
              "      filter: drop-shadow(0px 1px 2px rgba(0, 0, 0, 0.3));\n",
              "      fill: #FFFFFF;\n",
              "    }\n",
              "  </style>\n",
              "\n",
              "      <script>\n",
              "        const buttonEl =\n",
              "          document.querySelector('#df-0633ebdb-b1ca-4c63-8b68-36d4dee6c028 button.colab-df-convert');\n",
              "        buttonEl.style.display =\n",
              "          google.colab.kernel.accessAllowed ? 'block' : 'none';\n",
              "\n",
              "        async function convertToInteractive(key) {\n",
              "          const element = document.querySelector('#df-0633ebdb-b1ca-4c63-8b68-36d4dee6c028');\n",
              "          const dataTable =\n",
              "            await google.colab.kernel.invokeFunction('convertToInteractive',\n",
              "                                                     [key], {});\n",
              "          if (!dataTable) return;\n",
              "\n",
              "          const docLinkHtml = 'Like what you see? Visit the ' +\n",
              "            '<a target=\"_blank\" href=https://colab.research.google.com/notebooks/data_table.ipynb>data table notebook</a>'\n",
              "            + ' to learn more about interactive tables.';\n",
              "          element.innerHTML = '';\n",
              "          dataTable['output_type'] = 'display_data';\n",
              "          await google.colab.output.renderOutput(dataTable, element);\n",
              "          const docLink = document.createElement('div');\n",
              "          docLink.innerHTML = docLinkHtml;\n",
              "          element.appendChild(docLink);\n",
              "        }\n",
              "      </script>\n",
              "    </div>\n",
              "  </div>\n",
              "  "
            ]
          },
          "metadata": {},
          "execution_count": 45
        }
      ]
    },
    {
      "cell_type": "code",
      "source": [
        "Y = df['Selling_Price']\n",
        "X = df.drop('Selling_Price', axis=1)"
      ],
      "metadata": {
        "id": "nFd2-U0YanYS"
      },
      "execution_count": null,
      "outputs": []
    },
    {
      "cell_type": "code",
      "source": [
        "from sklearn.model_selection import train_test_split\n",
        "X_t = torch.from_numpy(X.to_numpy()).float()\n",
        "Y_t = torch.from_numpy(Y.to_numpy()).float().unsqueeze(1)\n",
        "X_train, X_test, Y_train, Y_test = train_test_split(X_t, Y_t, test_size=0.2)"
      ],
      "metadata": {
        "id": "RO9FRnttM823"
      },
      "execution_count": null,
      "outputs": []
    },
    {
      "cell_type": "code",
      "source": [
        "def add_ones_col(X):\n",
        " \n",
        "    x_0 = torch.ones((X.shape[0],), dtype=torch.float32).unsqueeze(1)\n",
        "    X = torch.cat([x_0, X], dim=1)\n",
        "    return X\n",
        "\n",
        "def multi_linear_reg(X, y):\n",
        "    \n",
        "    X = add_ones_col(X)  \n",
        "    Xt_X = X.T.mm(X)\n",
        "    Xt_y = X.T.mm(y)\n",
        "\n",
        "    Xt_X_inv = Xt_X.inverse()\n",
        "    w = Xt_X_inv.mm(Xt_y)\n",
        "    return w\n",
        "\n",
        "def prediction(X, w):\n",
        "    \n",
        "    X = add_ones_col(X)\n",
        "    return X.mm(w)"
      ],
      "metadata": {
        "id": "-WDTQYg6OXvv"
      },
      "execution_count": null,
      "outputs": []
    },
    {
      "cell_type": "code",
      "source": [
        "w = multi_linear_reg(X_train, Y_train)\n",
        "Y_pred_train = prediction(X_train, w)\n",
        "Y_pred_test = prediction(X_test, w)"
      ],
      "metadata": {
        "id": "0_39eKZ6OX8x"
      },
      "execution_count": null,
      "outputs": []
    },
    {
      "cell_type": "code",
      "source": [
        "def mse(Y_true, Y_pred):\n",
        "    error = Y_pred - Y_true\n",
        "    return (error.T.mm(error) / Y_pred.shape[0]).item()\n",
        "\n",
        "def mae(Y_true, Y_pred):\n",
        "    error = Y_pred - Y_true\n",
        "    return error.abs().mean().item()"
      ],
      "metadata": {
        "id": "mBtcNe0iPRTd"
      },
      "execution_count": null,
      "outputs": []
    },
    {
      "cell_type": "code",
      "source": [
        "mse_train = mse(Y_train, Y_pred_train)\n",
        "mae_train = mae(Y_train, Y_pred_train)\n",
        "print('MSE Train:\\t', mse_train)\n",
        "print('MAE Train:\\t', mae_train, end='\\n\\n')\n",
        "\n",
        "mse_test = mse(Y_test, Y_pred_test)\n",
        "mae_test = mae(Y_test, Y_pred_test)\n",
        "print('MSE Test:\\t', mse_test)\n",
        "print('MAE Test:\\t', mae_test, end='\\n\\n')"
      ],
      "metadata": {
        "colab": {
          "base_uri": "https://localhost:8080/"
        },
        "id": "w9_u6-qmPYBo",
        "outputId": "516a1c81-14a1-4174-b8eb-221fd0413523"
      },
      "execution_count": null,
      "outputs": [
        {
          "output_type": "stream",
          "name": "stdout",
          "text": [
            "MSE Train:\t 3.715343952178955\n",
            "MAE Train:\t 1.4379292726516724\n",
            "\n",
            "MSE Test:\t 3.8426644802093506\n",
            "MAE Test:\t 1.5005557537078857\n",
            "\n"
          ]
        }
      ]
    },
    {
      "cell_type": "markdown",
      "source": [
        "# Logistic Regression"
      ],
      "metadata": {
        "id": "KOeW9v3CdxN3"
      }
    },
    {
      "cell_type": "code",
      "source": [
        "import pandas as pd\n",
        "import numpy as np\n",
        "import matplotlib.pyplot as plt\n",
        "import seaborn as sns\n",
        "\n",
        "import warnings\n",
        "warnings.filterwarnings('default')\n",
        "\n",
        "data = pd.read_csv(\"car_data.csv\")"
      ],
      "metadata": {
        "id": "e-Lk2M4sS7w3"
      },
      "execution_count": null,
      "outputs": []
    },
    {
      "cell_type": "code",
      "source": [
        "X = data.drop([\"Owner\",\"Car_Name\",\"Year\",\"Fuel_Type\",\"Seller_Type\",\"Transmission\"], axis =1)\n",
        "Y = data[\"Owner\"]"
      ],
      "metadata": {
        "id": "HqZf_obodzxE"
      },
      "execution_count": null,
      "outputs": []
    },
    {
      "cell_type": "code",
      "source": [
        "from sklearn.metrics import accuracy_score\n",
        "\n",
        "\n",
        "class LogisticRegression():\n",
        "    def __init__(self, X, y , X_valid, y_valid, lr,epochs, reg = False,useoptimizer = False,ismultiClass = False):\n",
        "        self.X,self.y,  self.X_valid,self.y_valid,self.lr ,self.epochs,self.reg,self.useoptimizer, self.ismultiClass= X, y , X_valid, y_valid, lr, epochs, reg, useoptimizer,ismultiClass\n",
        "        if(not ismultiClass):            \n",
        "            self.optim = GradientDesent( X, y , X_valid, y_valid, lr,epochs, reg,useoptimizer, self.sigmoid)\n",
        "   \n",
        "    def sigmoid(self, z):    \n",
        "        return 1/(1+np.exp(-z))  \n",
        "    \n",
        "    def fit(self):\n",
        "        if(self.ismultiClass):\n",
        "            self.fitMulti()\n",
        "        else:\n",
        "            w = self.optim.optimize()\n",
        "            h = sigmoid(np.dot(self.X, w))\n",
        "            h_valid = sigmoid(np.dot(self.X_valid, w))\n",
        "            train_preds = [1 if i > 0.5 else 0 for i in h]\n",
        "            val_preds = [1 if i > 0.5 else 0 for i in h_valid]\n",
        "            train_accuracy =  accuracy_score(self.y , train_preds)\n",
        "            val_accuracy =  accuracy_score(self.y_valid , val_preds)\n",
        "\n",
        "            print(f'Train Accuracy: {train_accuracy} Val Accuracy: {val_accuracy}')   \n",
        "        \n",
        "        \n",
        "    def fitMulti(self):\n",
        "        labelCount = len(np.unique(self.y))\n",
        "        print(f'Total label Count: {labelCount}') \n",
        "        w = np.zeros((labelCount, self.X.shape[1]))\n",
        "                     \n",
        "        for i in range(1, labelCount+1):\n",
        "            print(f'Train LG for class : {i}')\n",
        "            y_change = np.array([1 if i == label else 0 for label in self.y])\n",
        "            y_valid_change = np.array([1 if i == label else 0 for label in self.y_valid])            \n",
        "            optim = GradientDesent( self.X, y_change , self.X_valid, y_valid_change, self.lr, self.epochs, self.reg, self.useoptimizer, self.sigmoid)\n",
        "            w[i-1:] = optim.optimize()                     \n",
        "        \n",
        "        train_preds = np.argmax(self.sigmoid(np.dot(self.X, w.T)) ,axis = 1) + 1\n",
        "        val_preds = np.argmax(self.sigmoid(np.dot(self.X_valid, w.T)) ,axis = 1) + 1         \n",
        "        \n",
        "        train_accuracy =  accuracy_score(self.y , train_preds)\n",
        "        val_accuracy =  accuracy_score(self.y_valid , val_preds)        \n",
        "        print(f'Train Accuracy: {train_accuracy} Val Accuracy: {val_accuracy}')"
      ],
      "metadata": {
        "id": "y_3D3Z1zd-MY"
      },
      "execution_count": null,
      "outputs": []
    },
    {
      "cell_type": "code",
      "source": [
        "import scipy.optimize as opt\n",
        "class GradientDesent():\n",
        "    \n",
        "    def __init__(self, X, y , X_valid, y_valid, lr, epochs, reg = False, useoptimizer = False, activate_fn = None):\n",
        "        self.X,self.y,  self.X_valid,self.y_valid,self.lr ,self.epochs, self.reg, self.useoptimizer, self.activate_fn  = X, y , X_valid, y_valid, lr,epochs, reg,useoptimizer,activate_fn\n",
        "            \n",
        "    def optimize(self):\n",
        "        w = np.zeros(X.shape[1])\n",
        "              \n",
        "        \n",
        "        if(self.useoptimizer):\n",
        "            result = opt.fmin_tnc(func=self.cost, x0=w, fprime=self.gradient,args=(self.X, self.y)) \n",
        "            train_loss= self.cost(result[0], self.X, self.y)\n",
        "            val_loss = self.cost(result[0], self.X_valid, self.y_valid)  \n",
        "            print(f'Runned Spicy Optimizer > Train Loss: {train_loss} Val Loss: {val_loss}')          \n",
        "            return result[0]             \n",
        "            \n",
        "        train_cost = np.zeros(self.epochs)\n",
        "        val_cost = np.zeros(self.epochs)      \n",
        "\n",
        "        \n",
        "        for i in range(self.epochs):\n",
        "            grad = self.gradient(w, self.X, self.y)\n",
        "            w = np.subtract(w , np.multiply(grad , self.lr))\n",
        "            train_loss= self.cost(w, self.X, self.y)\n",
        "            val_loss = self.cost(w, self.X_valid, self.y_valid)         \n",
        "            train_cost[i] = train_loss\n",
        "            val_cost[i] = val_loss\n",
        "            print(f'Epochs: {i} Train Loss: {train_loss} Val Loss: {val_loss}')   \n",
        "            \n",
        "        \n",
        "        return w\n",
        "        \n",
        "    def cost(self,w, X, y):\n",
        "        h = np.dot(X, w)\n",
        "        m = len(X)       \n",
        "        if(self.activate_fn != None):  h = self.activate_fn(h)\n",
        "        \n",
        "        loss= (np.dot(-y, np.log(h))) - (np.dot(1-y, np.log(1-h)))\n",
        "        loss = np.sum(loss)/m\n",
        "        \n",
        "        if(self.reg):           \n",
        "            loss = loss + ((self.lr/2*m) * np.sum(np.power(w,2)))\n",
        "        return loss\n",
        "            \n",
        "    \n",
        "    def gradient(self,w,X, y):\n",
        "        h = np.dot(X, w)      \n",
        "        if(self.activate_fn != None):  h = self.activate_fn(h)     \n",
        "        m = len(X)\n",
        "        loss= h - y\n",
        "        gradient = np.dot(X.T,loss)/m\n",
        "        if(self.reg): gradient = gradient + np.dot((self.lr/m), w)      \n",
        "        return gradient"
      ],
      "metadata": {
        "id": "zwd6XN3WTiXW"
      },
      "execution_count": null,
      "outputs": []
    },
    {
      "cell_type": "code",
      "source": [
        "X_train, X_valid, y_train, y_valid = train_test_split(\n",
        "            X,Y, test_size=0.15, random_state=42)\n",
        "print(X_train.shape)\n",
        "print(X_valid.shape)"
      ],
      "metadata": {
        "colab": {
          "base_uri": "https://localhost:8080/"
        },
        "id": "-dC2Hlx4TmRY",
        "outputId": "e75a717e-d652-4785-c06b-442cc01b9e39"
      },
      "execution_count": null,
      "outputs": [
        {
          "output_type": "stream",
          "name": "stdout",
          "text": [
            "(255, 3)\n",
            "(46, 3)\n"
          ]
        }
      ]
    },
    {
      "cell_type": "code",
      "source": [
        "model = LogisticRegression(X_train, y_train,X_valid,y_valid,  lr = 0.001, epochs =5000,useoptimizer=True,ismultiClass=True)\n",
        "model.fit()"
      ],
      "metadata": {
        "colab": {
          "base_uri": "https://localhost:8080/"
        },
        "id": "5vI0fBflT1y_",
        "outputId": "54a52ebb-6503-49d5-cd23-77c8cc8e9cbb"
      },
      "execution_count": null,
      "outputs": [
        {
          "output_type": "stream",
          "name": "stdout",
          "text": [
            "Total label Count: 3\n",
            "Train LG for class : 1\n",
            "Runned Spicy Optimizer > Train Loss: 0.1934467571974137 Val Loss: 0.14715781589520394\n",
            "Train LG for class : 2\n",
            "Runned Spicy Optimizer > Train Loss: 0.006062695289876363 Val Loss: 0.007083977658482754\n",
            "Train LG for class : 3\n",
            "Runned Spicy Optimizer > Train Loss: 0.000705422564034831 Val Loss: 0.00042272363738137913\n",
            "Train Accuracy: 0.0392156862745098 Val Accuracy: 0.021739130434782608\n"
          ]
        },
        {
          "output_type": "stream",
          "name": "stderr",
          "text": [
            "/usr/local/lib/python3.7/dist-packages/ipykernel_launcher.py:39: RuntimeWarning: divide by zero encountered in log\n",
            "/usr/local/lib/python3.7/dist-packages/ipykernel_launcher.py:11: RuntimeWarning: overflow encountered in exp\n",
            "  # This is added back by InteractiveShellApp.init_path()\n"
          ]
        }
      ]
    },
    {
      "cell_type": "code",
      "source": [
        "model = LogisticRegression(X_train, y_train,X_valid,y_valid,  lr = 0.0000001, epochs =5000,reg = True, useoptimizer=True,ismultiClass=True)\n",
        "model.fit()"
      ],
      "metadata": {
        "colab": {
          "base_uri": "https://localhost:8080/"
        },
        "id": "8XlV3rjHU_-p",
        "outputId": "bd1bd74a-175f-4242-e50c-12c5f4dc1ab3"
      },
      "execution_count": null,
      "outputs": [
        {
          "output_type": "stream",
          "name": "stdout",
          "text": [
            "Total label Count: 3\n",
            "Train LG for class : 1\n",
            "Runned Spicy Optimizer > Train Loss: 0.19344786386861634 Val Loss: 0.14715801323396946\n",
            "Train LG for class : 2\n",
            "Runned Spicy Optimizer > Train Loss: 0.006062695321282896 Val Loss: 0.00708397766210033\n",
            "Train LG for class : 3\n"
          ]
        },
        {
          "output_type": "stream",
          "name": "stderr",
          "text": [
            "/usr/local/lib/python3.7/dist-packages/ipykernel_launcher.py:39: RuntimeWarning: divide by zero encountered in log\n",
            "/usr/local/lib/python3.7/dist-packages/ipykernel_launcher.py:11: RuntimeWarning: overflow encountered in exp\n",
            "  # This is added back by InteractiveShellApp.init_path()\n"
          ]
        },
        {
          "output_type": "stream",
          "name": "stdout",
          "text": [
            "Runned Spicy Optimizer > Train Loss: 0.003233152965074141 Val Loss: 0.001300002132027879\n",
            "Train Accuracy: 0.0392156862745098 Val Accuracy: 0.021739130434782608\n"
          ]
        }
      ]
    },
    {
      "cell_type": "markdown",
      "source": [
        "# Linear Regression with fish data"
      ],
      "metadata": {
        "id": "bKSxSF_SQ4O3"
      }
    },
    {
      "cell_type": "code",
      "source": [
        "fish_df = pd.read_csv(\"Fish.csv\")"
      ],
      "metadata": {
        "id": "EUGxBZC2Q802"
      },
      "execution_count": null,
      "outputs": []
    },
    {
      "cell_type": "code",
      "source": [
        "fish_df.dtypes"
      ],
      "metadata": {
        "colab": {
          "base_uri": "https://localhost:8080/"
        },
        "id": "3y6lSo2EYN8m",
        "outputId": "9dbdbb1c-6ac9-4ad0-b233-32249c071826"
      },
      "execution_count": null,
      "outputs": [
        {
          "output_type": "execute_result",
          "data": {
            "text/plain": [
              "Species     object\n",
              "Weight     float64\n",
              "Length1    float64\n",
              "Length2    float64\n",
              "Length3    float64\n",
              "Height     float64\n",
              "Width      float64\n",
              "dtype: object"
            ]
          },
          "metadata": {},
          "execution_count": 71
        }
      ]
    },
    {
      "cell_type": "code",
      "source": [
        "from sklearn.preprocessing import LabelEncoder\n",
        "label_encoder = LabelEncoder()\n",
        "fish_df['Species'] =label_encoder.fit_transform(fish_df[\"Species\"])"
      ],
      "metadata": {
        "id": "l9rhYwFSRHKS"
      },
      "execution_count": null,
      "outputs": []
    },
    {
      "cell_type": "code",
      "source": [
        "from sklearn.model_selection import train_test_split\n",
        "\n",
        "X = fish_df.drop(['Species'], axis = 1)\n",
        "Y = fish_df['Species']\n",
        "X_t = torch.from_numpy(X.to_numpy()).float()\n",
        "Y_t = torch.from_numpy(Y.to_numpy()).float().unsqueeze(1)\n",
        "X_train, X_test, Y_train, Y_test = train_test_split(X_t, Y_t, test_size=0.2)"
      ],
      "metadata": {
        "id": "BRAKmOM0RQeL"
      },
      "execution_count": null,
      "outputs": []
    },
    {
      "cell_type": "code",
      "source": [
        "w = multi_linear_reg(X_train, Y_train)\n",
        "Y_pred_train = prediction(X_train, w)\n",
        "Y_pred_test = prediction(X_test, w)"
      ],
      "metadata": {
        "id": "qmz2hLnpYYke"
      },
      "execution_count": null,
      "outputs": []
    },
    {
      "cell_type": "code",
      "source": [
        "mse_train = mse(Y_train, Y_pred_train)\n",
        "mae_train = mae(Y_train, Y_pred_train)\n",
        "print('MSE Train:\\t', mse_train)\n",
        "print('MAE Train:\\t', mae_train)\n",
        "\n",
        "mse_test = mse(Y_test, Y_pred_test)\n",
        "mae_test = mae(Y_test, Y_pred_test)\n",
        "print('MSE Test:\\t', mse_test)\n",
        "print('MAE Test:\\t', mae_test)"
      ],
      "metadata": {
        "colab": {
          "base_uri": "https://localhost:8080/"
        },
        "id": "rt7IhsNXRVZg",
        "outputId": "b9516885-5676-4a62-8ed9-f2c6ff463f44"
      },
      "execution_count": null,
      "outputs": [
        {
          "output_type": "stream",
          "name": "stdout",
          "text": [
            "MSE Train:\t 1.0862778425216675\n",
            "MAE Train:\t 0.7295225858688354\n",
            "MSE Test:\t 0.616209089756012\n",
            "MAE Test:\t 0.6806548833847046\n"
          ]
        }
      ]
    },
    {
      "cell_type": "markdown",
      "source": [
        "# logistic regression with fish data"
      ],
      "metadata": {
        "id": "4dKukAMNKKPe"
      }
    },
    {
      "cell_type": "code",
      "source": [
        "fish_df = pd.read_csv(\"Fish.csv\")"
      ],
      "metadata": {
        "id": "kMMnScrYKYm2"
      },
      "execution_count": null,
      "outputs": []
    },
    {
      "cell_type": "code",
      "source": [
        "from sklearn.preprocessing import LabelEncoder\n",
        "label_encoder = LabelEncoder()\n",
        "fish_df['Species'] =label_encoder.fit_transform(fish_df[\"Species\"])"
      ],
      "metadata": {
        "id": "scOUcDXbcwsa"
      },
      "execution_count": null,
      "outputs": []
    },
    {
      "cell_type": "code",
      "source": [
        "from sklearn.model_selection import train_test_split\n",
        "\n",
        "X = fish_df.drop(['Species'], axis = 1)\n",
        "Y = fish_df['Species']\n",
        "\n",
        "#X_train, X_test, Y_train, Y_test = train_test_split(X,Y,test_size=0.3,random_state=42)"
      ],
      "metadata": {
        "id": "OXBgBqtsdhle"
      },
      "execution_count": null,
      "outputs": []
    },
    {
      "cell_type": "code",
      "source": [
        "from sklearn.metrics import accuracy_score\n",
        "\n",
        "\n",
        "class LogisticRegression():\n",
        "    def __init__(self, X, y , X_valid, y_valid, lr,epochs, reg = False,useoptimizer = False,ismultiClass = False):\n",
        "        self.X,self.y,  self.X_valid,self.y_valid,self.lr ,self.epochs,self.reg,self.useoptimizer, self.ismultiClass= X, y , X_valid, y_valid, lr, epochs, reg, useoptimizer,ismultiClass\n",
        "        if(not ismultiClass):            \n",
        "            self.optim = GradientDesent( X, y , X_valid, y_valid, lr,epochs, reg,useoptimizer, self.sigmoid)\n",
        "   \n",
        "    def sigmoid(self, z):    \n",
        "        return 1/(1+np.exp(-z))  \n",
        "    \n",
        "    def fit(self):\n",
        "        if(self.ismultiClass):\n",
        "            self.fitMulti()\n",
        "        else:\n",
        "            w = self.optim.optimize()\n",
        "            h = sigmoid(np.dot(self.X, w))\n",
        "            h_valid = sigmoid(np.dot(self.X_valid, w))\n",
        "            train_preds = [1 if i > 0.5 else 0 for i in h]\n",
        "            val_preds = [1 if i > 0.5 else 0 for i in h_valid]\n",
        "            train_accuracy =  accuracy_score(self.y , train_preds)\n",
        "            val_accuracy =  accuracy_score(self.y_valid , val_preds)\n",
        "\n",
        "            print(f'Train Accuracy: {train_accuracy} Val Accuracy: {val_accuracy}')   \n",
        "        \n",
        "        \n",
        "    def fitMulti(self):\n",
        "        labelCount = len(np.unique(self.y))\n",
        "        print(f'Total label Count: {labelCount}') \n",
        "        w = np.zeros((labelCount, self.X.shape[1]))\n",
        "                     \n",
        "        for i in range(1, labelCount+1):\n",
        "            print(f'Train LG for class : {i}')\n",
        "            y_change = np.array([1 if i == label else 0 for label in self.y])\n",
        "            y_valid_change = np.array([1 if i == label else 0 for label in self.y_valid])            \n",
        "            optim = GradientDesent( self.X, y_change , self.X_valid, y_valid_change, self.lr, self.epochs, self.reg, self.useoptimizer, self.sigmoid)\n",
        "            w[i-1:] = optim.optimize()                     \n",
        "        \n",
        "        train_preds = np.argmax(self.sigmoid(np.dot(self.X, w.T)) ,axis = 1) + 1\n",
        "        val_preds = np.argmax(self.sigmoid(np.dot(self.X_valid, w.T)) ,axis = 1) + 1         \n",
        "        \n",
        "        train_accuracy =  accuracy_score(self.y , train_preds)\n",
        "        val_accuracy =  accuracy_score(self.y_valid , val_preds)        \n",
        "        print(f'Train Accuracy: {train_accuracy} Val Accuracy: {val_accuracy}')"
      ],
      "metadata": {
        "id": "0TMePrUSU0mp"
      },
      "execution_count": null,
      "outputs": []
    },
    {
      "cell_type": "code",
      "source": [
        "import scipy.optimize as opt\n",
        "class GradientDesent():\n",
        "    \n",
        "    def __init__(self, X, y , X_valid, y_valid, lr, epochs, reg = False, useoptimizer = False, activate_fn = None):\n",
        "        self.X,self.y,  self.X_valid,self.y_valid,self.lr ,self.epochs, self.reg, self.useoptimizer, self.activate_fn  = X, y , X_valid, y_valid, lr,epochs, reg,useoptimizer,activate_fn\n",
        "            \n",
        "    def optimize(self):\n",
        "        w = np.zeros(X.shape[1])\n",
        "              \n",
        "        \n",
        "        if(self.useoptimizer):\n",
        "            result = opt.fmin_tnc(func=self.cost, x0=w, fprime=self.gradient,args=(self.X, self.y)) \n",
        "            train_loss= self.cost(result[0], self.X, self.y)\n",
        "            val_loss = self.cost(result[0], self.X_valid, self.y_valid)  \n",
        "            print(f'Runned Spicy Optimizer > Train Loss: {train_loss} Val Loss: {val_loss}')          \n",
        "            return result[0]             \n",
        "            \n",
        "        train_cost = np.zeros(self.epochs)\n",
        "        val_cost = np.zeros(self.epochs)      \n",
        "\n",
        "        \n",
        "        for i in range(self.epochs):\n",
        "            grad = self.gradient(w, self.X, self.y)\n",
        "            w = np.subtract(w , np.multiply(grad , self.lr))\n",
        "            train_loss= self.cost(w, self.X, self.y)\n",
        "            val_loss = self.cost(w, self.X_valid, self.y_valid)         \n",
        "            train_cost[i] = train_loss\n",
        "            val_cost[i] = val_loss\n",
        "            print(f'Epochs: {i} Train Loss: {train_loss} Val Loss: {val_loss}')   \n",
        "            \n",
        "        \n",
        "        return w\n",
        "        \n",
        "    def cost(self,w, X, y):\n",
        "        h = np.dot(X, w)\n",
        "        m = len(X)       \n",
        "        if(self.activate_fn != None):  h = self.activate_fn(h)\n",
        "        \n",
        "        loss= (np.dot(-y, np.log(h))) - (np.dot(1-y, np.log(1-h)))\n",
        "        loss = np.sum(loss)/m\n",
        "        \n",
        "        if(self.reg):           \n",
        "            loss = loss + ((self.lr/2*m) * np.sum(np.power(w,2)))\n",
        "        return loss\n",
        "            \n",
        "    \n",
        "    def gradient(self,w,X, y):\n",
        "        h = np.dot(X, w)      \n",
        "        if(self.activate_fn != None):  h = self.activate_fn(h)     \n",
        "        m = len(X)\n",
        "        loss= h - y\n",
        "        gradient = np.dot(X.T,loss)/m\n",
        "        if(self.reg): gradient = gradient + np.dot((self.lr/m), w)      \n",
        "        return gradient"
      ],
      "metadata": {
        "id": "4FDwt8ecg5Sg"
      },
      "execution_count": null,
      "outputs": []
    },
    {
      "cell_type": "code",
      "source": [
        "X_train, X_valid, y_train, y_valid = train_test_split(\n",
        "            X,Y, test_size=0.15, random_state=42)\n",
        "print(X_train.shape)\n",
        "print(X_valid.shape)"
      ],
      "metadata": {
        "colab": {
          "base_uri": "https://localhost:8080/"
        },
        "id": "CJhMNilPW1UP",
        "outputId": "165a795e-70ab-4524-9ff7-fbb1c3105f26"
      },
      "execution_count": null,
      "outputs": [
        {
          "output_type": "stream",
          "name": "stdout",
          "text": [
            "(135, 6)\n",
            "(24, 6)\n"
          ]
        }
      ]
    },
    {
      "cell_type": "code",
      "source": [
        "model = LogisticRegression(X_train, y_train,X_valid,y_valid,  lr = 0.001, epochs =5000,useoptimizer=True,ismultiClass=True)\n",
        "model.fit()"
      ],
      "metadata": {
        "colab": {
          "base_uri": "https://localhost:8080/"
        },
        "id": "vZ5SK69WVQOl",
        "outputId": "862f5d78-6629-48f3-c210-6f0554e12f63"
      },
      "execution_count": null,
      "outputs": [
        {
          "output_type": "stream",
          "name": "stdout",
          "text": [
            "Total label Count: 7\n",
            "Train LG for class : 1\n",
            "Runned Spicy Optimizer > Train Loss: 7.169841607940632e-06 Val Loss: 1.5282581914064993e-09\n",
            "Train LG for class : 2\n",
            "Runned Spicy Optimizer > Train Loss: 0.022897019871497146 Val Loss: 0.012600124578937416\n",
            "Train LG for class : 3\n"
          ]
        },
        {
          "output_type": "stream",
          "name": "stderr",
          "text": [
            "/usr/local/lib/python3.7/dist-packages/ipykernel_launcher.py:11: RuntimeWarning: overflow encountered in exp\n",
            "  # This is added back by InteractiveShellApp.init_path()\n",
            "/usr/local/lib/python3.7/dist-packages/ipykernel_launcher.py:39: RuntimeWarning: divide by zero encountered in log\n"
          ]
        },
        {
          "output_type": "stream",
          "name": "stdout",
          "text": [
            "Runned Spicy Optimizer > Train Loss: 0.013587489300938276 Val Loss: 0.0477010447942689\n",
            "Train LG for class : 4\n",
            "Runned Spicy Optimizer > Train Loss: 0.14716243219644512 Val Loss: 0.10348891171042773\n",
            "Train LG for class : 5\n",
            "Runned Spicy Optimizer > Train Loss: 4.200888356627509e-07 Val Loss: nan\n",
            "Train LG for class : 6\n",
            "Runned Spicy Optimizer > Train Loss: 0.10844630600378724 Val Loss: 0.3007033061314976\n",
            "Train LG for class : 7\n",
            "Runned Spicy Optimizer > Train Loss: 3.2553345525521665e-09 Val Loss: 5.523623715194476e-10\n",
            "Train Accuracy: 0.8 Val Accuracy: 0.5833333333333334\n"
          ]
        }
      ]
    },
    {
      "cell_type": "code",
      "source": [
        "model = LogisticRegression(X_train, y_train,X_valid,y_valid,  lr = 0.0000001, epochs =5000,reg = True, useoptimizer=True,ismultiClass=True)\n",
        "model.fit()"
      ],
      "metadata": {
        "colab": {
          "base_uri": "https://localhost:8080/"
        },
        "id": "MXASjkeTePVG",
        "outputId": "6aff6dc4-d4cc-4973-da4d-7812198a51e1"
      },
      "execution_count": null,
      "outputs": [
        {
          "output_type": "stream",
          "name": "stdout",
          "text": [
            "Total label Count: 7\n",
            "Train LG for class : 1\n",
            "Runned Spicy Optimizer > Train Loss: 0.0038347879193639353 Val Loss: 0.0006608035458345611\n",
            "Train LG for class : 2\n",
            "Runned Spicy Optimizer > Train Loss: 0.027959597176426543 Val Loss: 0.005029274220647714\n",
            "Train LG for class : 3\n"
          ]
        },
        {
          "output_type": "stream",
          "name": "stderr",
          "text": [
            "/usr/local/lib/python3.7/dist-packages/ipykernel_launcher.py:39: RuntimeWarning: divide by zero encountered in log\n"
          ]
        },
        {
          "output_type": "stream",
          "name": "stdout",
          "text": [
            "Runned Spicy Optimizer > Train Loss: 0.01373501559380547 Val Loss: 0.04766002244761856\n",
            "Train LG for class : 4\n",
            "Runned Spicy Optimizer > Train Loss: 0.15306093677994295 Val Loss: 0.10282490261750174\n",
            "Train LG for class : 5\n",
            "Runned Spicy Optimizer > Train Loss: 0.0015726148981420338 Val Loss: 0.10190388096991657\n",
            "Train LG for class : 6\n",
            "Runned Spicy Optimizer > Train Loss: 0.10883846093549265 Val Loss: 0.30783805218117005\n",
            "Train LG for class : 7\n",
            "Runned Spicy Optimizer > Train Loss: 4.4466303356135775e-06 Val Loss: 1.0256938251545716e-06\n",
            "Train Accuracy: 0.8074074074074075 Val Accuracy: 0.5833333333333334\n"
          ]
        }
      ]
    }
  ]
}